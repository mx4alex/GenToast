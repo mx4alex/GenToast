{
  "cells": [
    {
      "cell_type": "markdown",
      "metadata": {
        "cellId": "m1gmuf98ibsjot5mqon6q",
        "id": "QdVLW46c_inq"
      },
      "source": [
        "# Генерация праздничных тостов \n",
        "## Выбор предобученной модели\n",
        "Для работы с GPT скачаем предобученную модель.\n",
        "Для дообучения модели под генерацию русскоязычных праздничных тостов была взята предобученная модель от сбера `RuGPT-3Medium`. Конечно, взяв модель побольше `RuGPT-3Large`, результат генерации был бы лучше, но получить доступ к суперкомпьютеру, способному справиться с Large-моделью, не удалось."
      ]
    },
    {
      "cell_type": "code",
      "execution_count": null,
      "metadata": {
        "cellId": "n8vcrf75lxmviute8yo0yi",
        "id": "D5Eezvzm_hrI"
      },
      "outputs": [],
      "source": [
        "!pip install transformers \n",
        "\n",
        "from transformers import GPT2LMHeadModel, GPT2Tokenizer\n",
        "import torch\n",
        "DEVICE = torch.device(\"cuda:0\")\n",
        "\n",
        "model_name_or_path = \"sberbank-ai/rugpt3medium_based_on_gpt2\"\n",
        "tokenizer = GPT2Tokenizer.from_pretrained(model_name_or_path)\n",
        "model = GPT2LMHeadModel.from_pretrained(model_name_or_path).to(DEVICE)\n"
      ]
    },
    {
      "cell_type": "markdown",
      "metadata": {
        "cellId": "udautoh3kpdz317z2amjw",
        "id": "6Ip1xq3So0B7"
      },
      "source": [
        "## Обучающие данные\n",
        "Для получения датасета спарсим сайт https://pozdravok.com/ и выведем полученные данные в dataset.txt."
      ]
    },
    {
      "cell_type": "code",
      "execution_count": null,
      "metadata": {
        "cellId": "7e1j4cy8hu224nlgdk1td",
        "id": "af4PGPtZKX_c"
      },
      "outputs": [],
      "source": [
        "from bs4 import BeautifulSoup\n",
        "import requests\n",
        "import re\n",
        "\n",
        "f=open('dataset.txt', 'a',encoding='utf-8')\n",
        "\n",
        "for page in range(2, 100):\n",
        "    url = \"https://pozdravok.com/pozdravleniya/a/proza-\" + str(page) + \".htm\"\n",
        "\n",
        "    get_url = requests.get(url)\n",
        "\n",
        "    soup = BeautifulSoup(get_url.text, \"html.parser\")\n",
        "    teme = soup.find('div', class_ = \"p_descr\")\n",
        "\n",
        "    for element in soup.find('div', class_ = \"content\"):\n",
        "        f.write(str(element.text).replace(' ',' ') + '\\n')\n",
        "\n",
        "f.close()"
      ]
    },
    {
      "cell_type": "markdown",
      "source": [
        "Также перед загрузкой данных необходимо добавить символы [ST] и [ET] - символы начала и конца тоста."
      ],
      "metadata": {
        "id": "GUwgUDQgp41C"
      }
    },
    {
      "cell_type": "code",
      "execution_count": null,
      "metadata": {
        "cellId": "p28m6ek13jr00zdf4ndfql9k",
        "id": "TAqzNH8qOVMS"
      },
      "outputs": [],
      "source": [
        "with open(\"dataset.txt\", 'r', encoding='utf-8') as file:\n",
        "    f = open('dataset_with_ST_ET.txt', 'w', encoding='utf-8')\n",
        "    contents = file.readlines()\n",
        "    \n",
        "    for i in range(0,len(contents)):\n",
        "        string_dataset = str(contents[i])\n",
        "        string_dataset = string_dataset.replace('\\n','')\n",
        "\n",
        "        if string_dataset!='':\n",
        "            f.write('[ST]' + string_dataset + '[ET]' + '\\n\\n\\n\\n')\n"
      ]
    },
    {
      "cell_type": "markdown",
      "source": [
        "Теперь загрузим и обработаем полученный датасет"
      ],
      "metadata": {
        "id": "yR2rnPThqktW"
      }
    },
    {
      "cell_type": "code",
      "execution_count": null,
      "metadata": {
        "cellId": "9mkgz6m5ii9or18j2jsj8",
        "id": "YDYwy5E7OVMT"
      },
      "outputs": [],
      "source": [
        "!pip install datasets\n",
        "from datasets import load_dataset, Dataset\n",
        "dataset = load_dataset(\"text\", data_files={\"train\": \"dataset_with_ST_ET.txt\"}, sample_by=\"document\")"
      ]
    },
    {
      "cell_type": "code",
      "source": [
        "toast_datasets = []\n",
        "for item in dataset['train'][0]['text'].split('\\n\\n\\n\\n'):\n",
        "    toast_datasets.append({\"text\":item})\n",
        "\n",
        "dataset = Dataset.from_list(toast_datasets, split=\"train\")\n",
        "dataset"
      ],
      "metadata": {
        "colab": {
          "base_uri": "https://localhost:8080/"
        },
        "id": "T1J0LPXd7mEx",
        "outputId": "fceaa7fb-b62a-412d-e41d-0f6a74cd4231"
      },
      "execution_count": 16,
      "outputs": [
        {
          "output_type": "execute_result",
          "data": {
            "text/plain": [
              "Dataset({\n",
              "    features: ['text'],\n",
              "    num_rows: 1330\n",
              "})"
            ]
          },
          "metadata": {},
          "execution_count": 16
        }
      ]
    },
    {
      "cell_type": "code",
      "execution_count": 17,
      "metadata": {
        "cellId": "7e1tql2q6eojz97n6gfcg",
        "id": "e9jkhI0TOVMV",
        "colab": {
          "base_uri": "https://localhost:8080/",
          "height": 49,
          "referenced_widgets": [
            "fdd49f681539458cb645154286f03fe6",
            "fdcef2499f4e4900a9ac011a05a162d4",
            "467b3d8c069948c98760e09e2cf33799",
            "fccb5bd2424344aa84207fcc3f8a8354",
            "cbad6b6746804420ac8e765270be8d66",
            "5a850c79c4a147d3b339ee54086e5787",
            "38cec515cb1747248461155f60e19dd5",
            "347cdb83ef734c8dad1b611e421fec2b",
            "ef985e04ecad4eeeb9b9cf4831301182",
            "015c101edcd74bbc9e7eb35dc6c9d5b1",
            "5eb30bd127ae4344ad497312b580aa3f"
          ]
        },
        "outputId": "d7cd5f59-65bb-4a56-8039-770bb32d0cd5"
      },
      "outputs": [
        {
          "output_type": "display_data",
          "data": {
            "text/plain": [
              "  0%|          | 0/2 [00:00<?, ?ba/s]"
            ],
            "application/vnd.jupyter.widget-view+json": {
              "version_major": 2,
              "version_minor": 0,
              "model_id": "fdd49f681539458cb645154286f03fe6"
            }
          },
          "metadata": {}
        }
      ],
      "source": [
        "def tokenize_text(examples):\n",
        "    return tokenizer(examples[\"text\"], truncation=True, max_length=128)\n",
        "dataset = dataset.map(tokenize_text, batched=True, remove_columns=[\"text\"])  ##токенизируем полученный обработанный датасет"
      ]
    },
    {
      "cell_type": "code",
      "execution_count": null,
      "metadata": {
        "cellId": "6v7k1bmtyegz5w5283ke",
        "id": "5f1E03YUOVMY"
      },
      "outputs": [],
      "source": [
        "from transformers import DataCollatorForLanguageModeling\n",
        "\n",
        "data_collator = DataCollatorForLanguageModeling(tokenizer=tokenizer, mlm=False)\n",
        "tokenizer.add_special_tokens({'pad_token': '[PAD]'})"
      ]
    },
    {
      "cell_type": "markdown",
      "metadata": {
        "cellId": "ly8h377ki6k8883f5ba48",
        "id": "l_8m7ZLOpPCg"
      },
      "source": [
        "## Обучение\n",
        "Зададим параметры обучения"
      ]
    },
    {
      "cell_type": "code",
      "execution_count": null,
      "metadata": {
        "cellId": "1t4y8k1fiszex93hzj8fvc",
        "colab": {
          "base_uri": "https://localhost:8080/"
        },
        "id": "sQH4wBW_pN2d",
        "outputId": "68626765-9b8c-4f57-9d02-2ede3ac92d0f"
      },
      "outputs": [
        {
          "output_type": "stream",
          "name": "stderr",
          "text": [
            "PyTorch: setting up devices\n",
            "The default value for the training argument `--report_to` will change in v5 (from all installed integrations to none). In v5, you will need to use `--report_to all` to get the same behavior as now. You should start updating your code and make this info disappear :-).\n"
          ]
        }
      ],
      "source": [
        "from transformers import Trainer, TrainingArguments\n",
        "\n",
        "training_args = TrainingArguments(\n",
        "    output_dir=\"./finetuned\", \n",
        "    overwrite_output_dir=True,\n",
        "    num_train_epochs=25,\n",
        "    logging_steps=250,\n",
        "    save_steps=1000,\n",
        "    per_device_train_batch_size=2,  #размер пакета (количества данных) на ядро для обучения\n",
        "    per_device_eval_batch_size=2,  #размер пакета (количества данных) на ядро для оценки\n",
        "    warmup_steps=10,  #снижаем скорость обучения, чтобы уменьшить влияние отклонения модели от обучения\n",
        "    gradient_accumulation_steps=16,  ##количество шагов обновления для накопления градиента (чтобы увеличить размер пакета)\n",
        "    )\n",
        "\n",
        "\n",
        "trainer = Trainer(\n",
        "    model=model,\n",
        "    args=training_args,\n",
        "    data_collator=data_collator,\n",
        "    train_dataset=dataset,\n",
        "    optimizers = (torch.optim.AdamW(model.parameters(),lr=1e-5),None)  #указание оптимизатора со скоростью обучения 1e-5\n",
        ")"
      ]
    },
    {
      "cell_type": "code",
      "execution_count": null,
      "metadata": {
        "cellId": "5v3o8hq50qmx70dbforz8b",
        "colab": {
          "base_uri": "https://localhost:8080/",
          "height": 496
        },
        "id": "OVtvq4sLq9EG",
        "outputId": "933dbe5d-ce2b-4edd-afb5-cb74475926e2"
      },
      "outputs": [
        {
          "output_type": "stream",
          "name": "stderr",
          "text": [
            "***** Running training *****\n",
            "  Num examples = 1330\n",
            "  Num Epochs = 25\n",
            "  Instantaneous batch size per device = 2\n",
            "  Total train batch size (w. parallel, distributed & accumulation) = 32\n",
            "  Gradient Accumulation steps = 16\n",
            "  Total optimization steps = 1025\n",
            "  Number of trainable parameters = 355871744\n"
          ]
        },
        {
          "output_type": "display_data",
          "data": {
            "text/plain": [
              "<IPython.core.display.HTML object>"
            ],
            "text/html": [
              "\n",
              "    <div>\n",
              "      \n",
              "      <progress value='1025' max='1025' style='width:300px; height:20px; vertical-align: middle;'></progress>\n",
              "      [1025/1025 36:24, Epoch 24/25]\n",
              "    </div>\n",
              "    <table border=\"1\" class=\"dataframe\">\n",
              "  <thead>\n",
              " <tr style=\"text-align: left;\">\n",
              "      <th>Step</th>\n",
              "      <th>Training Loss</th>\n",
              "    </tr>\n",
              "  </thead>\n",
              "  <tbody>\n",
              "    <tr>\n",
              "      <td>250</td>\n",
              "      <td>0.075900</td>\n",
              "    </tr>\n",
              "    <tr>\n",
              "      <td>500</td>\n",
              "      <td>0.077200</td>\n",
              "    </tr>\n",
              "    <tr>\n",
              "      <td>750</td>\n",
              "      <td>0.080200</td>\n",
              "    </tr>\n",
              "    <tr>\n",
              "      <td>1000</td>\n",
              "      <td>0.088400</td>\n",
              "    </tr>\n",
              "  </tbody>\n",
              "</table><p>"
            ]
          },
          "metadata": {}
        },
        {
          "output_type": "stream",
          "name": "stderr",
          "text": [
            "Saving model checkpoint to ./finetuned/checkpoint-1000\n",
            "Configuration saved in ./finetuned/checkpoint-1000/config.json\n",
            "Model weights saved in ./finetuned/checkpoint-1000/pytorch_model.bin\n",
            "\n",
            "\n",
            "Training completed. Do not forget to share your model on huggingface.co/models =)\n",
            "\n",
            "\n"
          ]
        },
        {
          "output_type": "execute_result",
          "data": {
            "text/plain": [
              "TrainOutput(global_step=1025, training_loss=0.0808626821564465, metrics={'train_runtime': 2186.737, 'train_samples_per_second': 15.205, 'train_steps_per_second': 0.469, 'total_flos': 3857822685069312.0, 'train_loss': 0.0808626821564465, 'epoch': 24.99})"
            ]
          },
          "metadata": {},
          "execution_count": 17
        }
      ],
      "source": [
        "#!g1.1\n",
        "trainer.train()"
      ]
    },
    {
      "cell_type": "markdown",
      "metadata": {
        "cellId": "k30gpgso3mftr81jxdi9g",
        "id": "NtZGPwSer282"
      },
      "source": [
        "# Результат обучения\n",
        "Сохранение модели и токенайзера"
      ]
    },
    {
      "cell_type": "code",
      "execution_count": null,
      "metadata": {
        "cellId": "uy8pquwf60hxbn87epapvn",
        "id": "mhkpj-zVCpVo"
      },
      "outputs": [],
      "source": [
        "model.save_pretrained(\"model_best\")\n",
        "tokenizer.save_pretrained(\"model_best\")"
      ]
    },
    {
      "cell_type": "markdown",
      "source": [
        "Для генерации праздичного тоста будем использовать сэмплирование с ограничением маловероятных токенов, чтобы обеспечить генерацию, проходящую случайным образом, и при этом исключить всякий бред"
      ],
      "metadata": {
        "id": "fDADy4S9zIqI"
      }
    },
    {
      "cell_type": "code",
      "execution_count": null,
      "metadata": {
        "cellId": "isnl2qz2d5dub4ne7umill",
        "colab": {
          "base_uri": "https://localhost:8080/"
        },
        "id": "R_qjIcBUrq0j",
        "outputId": "48719c67-4b00-4f9b-b68b-b1d6b9489b3c"
      },
      "outputs": [
        {
          "name": "stderr",
          "output_type": "stream",
          "text": [
            "Setting `pad_token_id` to `eos_token_id`:50256 for open-end generation.\n"
          ]
        },
        {
          "name": "stdout",
          "output_type": "stream",
          "text": [
            "С Новым Годом!\n",
            "\n",
            "Пусть этот новый год будет полон счастливых мгновений, улыбок и веселья! Пусть сбываются самые заветные желания, а близкие будут здоровы и благополучны! Желаю, чтобы Дедушка Мороз не поскупился на щедрые подарки, и чтобы волшебная ночь началась с приятных хлопушек и веселого гвалта. Пусть этот Новый год станет ярким, незабываемым и принесет множество приятных сюрпризов! С праздником, с Новым годом!\n"
          ]
        }
      ],
      "source": [
        "model.eval()\n",
        "\n",
        "text = \"С Новым Годом!\\n\"\n",
        "input_ids = tokenizer.encode(text, return_tensors=\"pt\").to(DEVICE)\n",
        "\n",
        "with torch.no_grad():\n",
        "    out = model.generate(input_ids, \n",
        "                        do_sample=True,\n",
        "                        num_beams=5,  #количество лучей генерации\n",
        "                        temperature=1.8,  #параметр температуры, определяющий степень рандомности (чем больше температура, тем больше степень рандомности)\n",
        "                        top_p=0.8,  #ограничение, отсекающее маловероятные токены (сумма вероятностей сета токенов должна быть не больше p)\n",
        "                        top_k=50,  #ограничение, отсекающее маловероятные токены (зануляются все вероятности кроме k самых вероятных)\n",
        "                        max_length=120, \n",
        "                        min_length=30,\n",
        "                        no_repeat_ngram_size=2\n",
        "                        )\n",
        "\n",
        "generated_text = list(map(tokenizer.decode, out))[0]\n",
        "out_text = generated_text.replace('[SJ]', '').split('[ET]')[0]\n",
        "\n",
        "print()\n",
        "print(generated_text)"
      ]
    }
  ],
  "metadata": {
    "accelerator": "GPU",
    "colab": {
      "provenance": []
    },
    "language_info": {
      "name": "python"
    },
    "notebookId": "4b650e3e-0cc2-4fcc-afe1-ed6ee1bfc1e3",
    "notebookPath": "toast (3).ipynb",
    "kernelspec": {
      "name": "python3",
      "display_name": "Python 3"
    },
    "gpuClass": "standard",
    "widgets": {
      "application/vnd.jupyter.widget-state+json": {
        "fdd49f681539458cb645154286f03fe6": {
          "model_module": "@jupyter-widgets/controls",
          "model_name": "HBoxModel",
          "model_module_version": "1.5.0",
          "state": {
            "_dom_classes": [],
            "_model_module": "@jupyter-widgets/controls",
            "_model_module_version": "1.5.0",
            "_model_name": "HBoxModel",
            "_view_count": null,
            "_view_module": "@jupyter-widgets/controls",
            "_view_module_version": "1.5.0",
            "_view_name": "HBoxView",
            "box_style": "",
            "children": [
              "IPY_MODEL_fdcef2499f4e4900a9ac011a05a162d4",
              "IPY_MODEL_467b3d8c069948c98760e09e2cf33799",
              "IPY_MODEL_fccb5bd2424344aa84207fcc3f8a8354"
            ],
            "layout": "IPY_MODEL_cbad6b6746804420ac8e765270be8d66"
          }
        },
        "fdcef2499f4e4900a9ac011a05a162d4": {
          "model_module": "@jupyter-widgets/controls",
          "model_name": "HTMLModel",
          "model_module_version": "1.5.0",
          "state": {
            "_dom_classes": [],
            "_model_module": "@jupyter-widgets/controls",
            "_model_module_version": "1.5.0",
            "_model_name": "HTMLModel",
            "_view_count": null,
            "_view_module": "@jupyter-widgets/controls",
            "_view_module_version": "1.5.0",
            "_view_name": "HTMLView",
            "description": "",
            "description_tooltip": null,
            "layout": "IPY_MODEL_5a850c79c4a147d3b339ee54086e5787",
            "placeholder": "​",
            "style": "IPY_MODEL_38cec515cb1747248461155f60e19dd5",
            "value": "100%"
          }
        },
        "467b3d8c069948c98760e09e2cf33799": {
          "model_module": "@jupyter-widgets/controls",
          "model_name": "FloatProgressModel",
          "model_module_version": "1.5.0",
          "state": {
            "_dom_classes": [],
            "_model_module": "@jupyter-widgets/controls",
            "_model_module_version": "1.5.0",
            "_model_name": "FloatProgressModel",
            "_view_count": null,
            "_view_module": "@jupyter-widgets/controls",
            "_view_module_version": "1.5.0",
            "_view_name": "ProgressView",
            "bar_style": "success",
            "description": "",
            "description_tooltip": null,
            "layout": "IPY_MODEL_347cdb83ef734c8dad1b611e421fec2b",
            "max": 2,
            "min": 0,
            "orientation": "horizontal",
            "style": "IPY_MODEL_ef985e04ecad4eeeb9b9cf4831301182",
            "value": 2
          }
        },
        "fccb5bd2424344aa84207fcc3f8a8354": {
          "model_module": "@jupyter-widgets/controls",
          "model_name": "HTMLModel",
          "model_module_version": "1.5.0",
          "state": {
            "_dom_classes": [],
            "_model_module": "@jupyter-widgets/controls",
            "_model_module_version": "1.5.0",
            "_model_name": "HTMLModel",
            "_view_count": null,
            "_view_module": "@jupyter-widgets/controls",
            "_view_module_version": "1.5.0",
            "_view_name": "HTMLView",
            "description": "",
            "description_tooltip": null,
            "layout": "IPY_MODEL_015c101edcd74bbc9e7eb35dc6c9d5b1",
            "placeholder": "​",
            "style": "IPY_MODEL_5eb30bd127ae4344ad497312b580aa3f",
            "value": " 2/2 [00:01&lt;00:00,  1.16ba/s]"
          }
        },
        "cbad6b6746804420ac8e765270be8d66": {
          "model_module": "@jupyter-widgets/base",
          "model_name": "LayoutModel",
          "model_module_version": "1.2.0",
          "state": {
            "_model_module": "@jupyter-widgets/base",
            "_model_module_version": "1.2.0",
            "_model_name": "LayoutModel",
            "_view_count": null,
            "_view_module": "@jupyter-widgets/base",
            "_view_module_version": "1.2.0",
            "_view_name": "LayoutView",
            "align_content": null,
            "align_items": null,
            "align_self": null,
            "border": null,
            "bottom": null,
            "display": null,
            "flex": null,
            "flex_flow": null,
            "grid_area": null,
            "grid_auto_columns": null,
            "grid_auto_flow": null,
            "grid_auto_rows": null,
            "grid_column": null,
            "grid_gap": null,
            "grid_row": null,
            "grid_template_areas": null,
            "grid_template_columns": null,
            "grid_template_rows": null,
            "height": null,
            "justify_content": null,
            "justify_items": null,
            "left": null,
            "margin": null,
            "max_height": null,
            "max_width": null,
            "min_height": null,
            "min_width": null,
            "object_fit": null,
            "object_position": null,
            "order": null,
            "overflow": null,
            "overflow_x": null,
            "overflow_y": null,
            "padding": null,
            "right": null,
            "top": null,
            "visibility": null,
            "width": null
          }
        },
        "5a850c79c4a147d3b339ee54086e5787": {
          "model_module": "@jupyter-widgets/base",
          "model_name": "LayoutModel",
          "model_module_version": "1.2.0",
          "state": {
            "_model_module": "@jupyter-widgets/base",
            "_model_module_version": "1.2.0",
            "_model_name": "LayoutModel",
            "_view_count": null,
            "_view_module": "@jupyter-widgets/base",
            "_view_module_version": "1.2.0",
            "_view_name": "LayoutView",
            "align_content": null,
            "align_items": null,
            "align_self": null,
            "border": null,
            "bottom": null,
            "display": null,
            "flex": null,
            "flex_flow": null,
            "grid_area": null,
            "grid_auto_columns": null,
            "grid_auto_flow": null,
            "grid_auto_rows": null,
            "grid_column": null,
            "grid_gap": null,
            "grid_row": null,
            "grid_template_areas": null,
            "grid_template_columns": null,
            "grid_template_rows": null,
            "height": null,
            "justify_content": null,
            "justify_items": null,
            "left": null,
            "margin": null,
            "max_height": null,
            "max_width": null,
            "min_height": null,
            "min_width": null,
            "object_fit": null,
            "object_position": null,
            "order": null,
            "overflow": null,
            "overflow_x": null,
            "overflow_y": null,
            "padding": null,
            "right": null,
            "top": null,
            "visibility": null,
            "width": null
          }
        },
        "38cec515cb1747248461155f60e19dd5": {
          "model_module": "@jupyter-widgets/controls",
          "model_name": "DescriptionStyleModel",
          "model_module_version": "1.5.0",
          "state": {
            "_model_module": "@jupyter-widgets/controls",
            "_model_module_version": "1.5.0",
            "_model_name": "DescriptionStyleModel",
            "_view_count": null,
            "_view_module": "@jupyter-widgets/base",
            "_view_module_version": "1.2.0",
            "_view_name": "StyleView",
            "description_width": ""
          }
        },
        "347cdb83ef734c8dad1b611e421fec2b": {
          "model_module": "@jupyter-widgets/base",
          "model_name": "LayoutModel",
          "model_module_version": "1.2.0",
          "state": {
            "_model_module": "@jupyter-widgets/base",
            "_model_module_version": "1.2.0",
            "_model_name": "LayoutModel",
            "_view_count": null,
            "_view_module": "@jupyter-widgets/base",
            "_view_module_version": "1.2.0",
            "_view_name": "LayoutView",
            "align_content": null,
            "align_items": null,
            "align_self": null,
            "border": null,
            "bottom": null,
            "display": null,
            "flex": null,
            "flex_flow": null,
            "grid_area": null,
            "grid_auto_columns": null,
            "grid_auto_flow": null,
            "grid_auto_rows": null,
            "grid_column": null,
            "grid_gap": null,
            "grid_row": null,
            "grid_template_areas": null,
            "grid_template_columns": null,
            "grid_template_rows": null,
            "height": null,
            "justify_content": null,
            "justify_items": null,
            "left": null,
            "margin": null,
            "max_height": null,
            "max_width": null,
            "min_height": null,
            "min_width": null,
            "object_fit": null,
            "object_position": null,
            "order": null,
            "overflow": null,
            "overflow_x": null,
            "overflow_y": null,
            "padding": null,
            "right": null,
            "top": null,
            "visibility": null,
            "width": null
          }
        },
        "ef985e04ecad4eeeb9b9cf4831301182": {
          "model_module": "@jupyter-widgets/controls",
          "model_name": "ProgressStyleModel",
          "model_module_version": "1.5.0",
          "state": {
            "_model_module": "@jupyter-widgets/controls",
            "_model_module_version": "1.5.0",
            "_model_name": "ProgressStyleModel",
            "_view_count": null,
            "_view_module": "@jupyter-widgets/base",
            "_view_module_version": "1.2.0",
            "_view_name": "StyleView",
            "bar_color": null,
            "description_width": ""
          }
        },
        "015c101edcd74bbc9e7eb35dc6c9d5b1": {
          "model_module": "@jupyter-widgets/base",
          "model_name": "LayoutModel",
          "model_module_version": "1.2.0",
          "state": {
            "_model_module": "@jupyter-widgets/base",
            "_model_module_version": "1.2.0",
            "_model_name": "LayoutModel",
            "_view_count": null,
            "_view_module": "@jupyter-widgets/base",
            "_view_module_version": "1.2.0",
            "_view_name": "LayoutView",
            "align_content": null,
            "align_items": null,
            "align_self": null,
            "border": null,
            "bottom": null,
            "display": null,
            "flex": null,
            "flex_flow": null,
            "grid_area": null,
            "grid_auto_columns": null,
            "grid_auto_flow": null,
            "grid_auto_rows": null,
            "grid_column": null,
            "grid_gap": null,
            "grid_row": null,
            "grid_template_areas": null,
            "grid_template_columns": null,
            "grid_template_rows": null,
            "height": null,
            "justify_content": null,
            "justify_items": null,
            "left": null,
            "margin": null,
            "max_height": null,
            "max_width": null,
            "min_height": null,
            "min_width": null,
            "object_fit": null,
            "object_position": null,
            "order": null,
            "overflow": null,
            "overflow_x": null,
            "overflow_y": null,
            "padding": null,
            "right": null,
            "top": null,
            "visibility": null,
            "width": null
          }
        },
        "5eb30bd127ae4344ad497312b580aa3f": {
          "model_module": "@jupyter-widgets/controls",
          "model_name": "DescriptionStyleModel",
          "model_module_version": "1.5.0",
          "state": {
            "_model_module": "@jupyter-widgets/controls",
            "_model_module_version": "1.5.0",
            "_model_name": "DescriptionStyleModel",
            "_view_count": null,
            "_view_module": "@jupyter-widgets/base",
            "_view_module_version": "1.2.0",
            "_view_name": "StyleView",
            "description_width": ""
          }
        }
      }
    }
  },
  "nbformat": 4,
  "nbformat_minor": 0
}
